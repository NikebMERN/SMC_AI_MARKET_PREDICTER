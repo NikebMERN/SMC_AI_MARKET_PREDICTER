{
 "cells": [
  {
   "cell_type": "code",
   "execution_count": 6,
   "id": "a101f036",
   "metadata": {},
   "outputs": [
    {
     "name": "stdout",
     "output_type": "stream",
     "text": [
      "Defaulting to user installation because normal site-packages is not writeable\n",
      "Requirement already satisfied: joblib in c:\\users\\nikodimos\\appdata\\local\\packages\\pythonsoftwarefoundation.python.3.12_qbz5n2kfra8p0\\localcache\\local-packages\\python312\\site-packages (1.5.1)\n",
      "Note: you may need to restart the kernel to use updated packages.\n",
      "Model file not found: model/model.joblib\n"
     ]
    }
   ],
   "source": [
    "# smc_experiments.ipynb\n",
    "\n",
    "# Step 1: Import required modules\n",
    "%pip install joblib\n",
    "import joblib # type: ignore\n",
    "import pandas as pd # type: ignore\n",
    "import sys\n",
    "import os\n",
    "\n",
    "# Step 2: Add parent directory to sys.path for module imports\n",
    "sys.path.append(os.path.abspath(os.path.join(os.getcwd(), '..')))\n",
    "\n",
    "from features.create_features import extract_features\n",
    "\n",
    "# Step 3: Define the prediction function\n",
    "def predict_market_direction(file_path):\n",
    "    model_path = \"model/model.joblib\"\n",
    "    label_encoder_path = \"model/label_encoder.joblib\"\n",
    "\n",
    "    if not os.path.exists(model_path):\n",
    "        print(f\"Model file not found: {model_path}\")\n",
    "        return []\n",
    "    if not os.path.exists(label_encoder_path):\n",
    "        print(f\"Label encoder file not found: {label_encoder_path}\")\n",
    "        return []\n",
    "\n",
    "    model = joblib.load(model_path)\n",
    "    label_encoder = joblib.load(label_encoder_path)\n",
    "\n",
    "    features_df = extract_features(file_path)\n",
    "    X = features_df.drop(columns=[\"sma_trend\", \"smc_trend\", \"combined_trend\"], errors=\"ignore\")\n",
    "\n",
    "    predictions_encoded = model.predict(X)\n",
    "    predictions = label_encoder.inverse_transform(predictions_encoded)\n",
    "\n",
    "    probs = model.predict_proba(X)\n",
    "    class_names = label_encoder.inverse_transform(model.classes_)\n",
    "\n",
    "    results = []\n",
    "    for i in range(len(predictions)):\n",
    "        prob_dict = {class_names[j]: probs[i][j] for j in range(len(class_names))}\n",
    "        results.append((predictions[i], prob_dict))\n",
    "\n",
    "    return results\n",
    "\n",
    "# Step 4: Choose a test file\n",
    "test_file = \"data/EURUSD_5min.csv\"  # Replace with your actual test CSV file path\n",
    "\n",
    "# Step 5: Run prediction\n",
    "results = predict_market_direction(test_file)\n",
    "\n",
    "# Step 6: Show results\n",
    "for i, (label, probs) in enumerate(results):\n",
    "    print(f\"Row {i+1} prediction: {label}\")\n",
    "    print(\"Probabilities:\")\n",
    "    for cls, prob in probs.items():\n",
    "        print(f\"  {cls}: {prob:.2f}\")\n",
    "    print()\n"
   ]
  }
 ],
 "metadata": {
  "kernelspec": {
   "display_name": "Python 3",
   "language": "python",
   "name": "python3"
  },
  "language_info": {
   "codemirror_mode": {
    "name": "ipython",
    "version": 3
   },
   "file_extension": ".py",
   "mimetype": "text/x-python",
   "name": "python",
   "nbconvert_exporter": "python",
   "pygments_lexer": "ipython3",
   "version": "3.12.10"
  }
 },
 "nbformat": 4,
 "nbformat_minor": 5
}
